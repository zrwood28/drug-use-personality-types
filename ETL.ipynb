{
 "cells": [
  {
   "cell_type": "code",
   "execution_count": null,
   "id": "b2cd141b",
   "metadata": {},
   "outputs": [],
   "source": [
    "import pandas as pd"
   ]
  },
  {
   "cell_type": "code",
   "execution_count": null,
   "id": "8c56fed8",
   "metadata": {},
   "outputs": [],
   "source": [
    "file = 'Resources/Drug_Consumption.csv'\n",
    "\n",
    "df = pd.read_csv(file)"
   ]
  },
  {
   "cell_type": "code",
   "execution_count": null,
   "id": "08c8829e",
   "metadata": {},
   "outputs": [],
   "source": [
    "df.head()\n"
   ]
  },
  {
   "cell_type": "code",
   "execution_count": null,
   "id": "3da9dfbb",
   "metadata": {},
   "outputs": [],
   "source": [
    "df.columns"
   ]
  },
  {
   "cell_type": "code",
   "execution_count": null,
   "id": "e302b46b",
   "metadata": {},
   "outputs": [],
   "source": [
    "df.shape"
   ]
  },
  {
   "cell_type": "code",
   "execution_count": null,
   "id": "e9476e0c",
   "metadata": {},
   "outputs": [],
   "source": [
    "# drop NaN\n",
    "df = df.dropna()"
   ]
  },
  {
   "cell_type": "code",
   "execution_count": null,
   "id": "f70803d3",
   "metadata": {},
   "outputs": [],
   "source": [
    "# drop rows where Semer value is not CL0\n",
    "df = df[df.Semer == 'CL0']"
   ]
  },
  {
   "cell_type": "code",
   "execution_count": null,
   "id": "d7627de0",
   "metadata": {},
   "outputs": [],
   "source": [
    "df.shape"
   ]
  },
  {
   "cell_type": "code",
   "execution_count": null,
   "id": "cb46aded",
   "metadata": {},
   "outputs": [],
   "source": [
    "# drop Semer Column\n",
    "df = df.drop(['Semer'], axis=1, inplace=False)"
   ]
  },
  {
   "cell_type": "code",
   "execution_count": null,
   "id": "c080c0b0",
   "metadata": {},
   "outputs": [],
   "source": [
    "# Illegal drugs\n",
    "\n",
    "# timeframe variables:\n",
    "one = ['CL3', 'CL4', 'CL5', 'CL6']\n",
    "zero = ['CL0', 'CL1', 'CL2']\n",
    "\n",
    "df['Amphet'] = df['Amphet'].replace(to_replace=one, value = 1)\n",
    "df['Amphet'] = df['Amphet'].replace(to_replace=zero, value = 0)\n",
    "\n",
    "df['Amyl'] = df['Amyl'].replace(to_replace=one, value = 1)\n",
    "df['Amyl'] = df['Amyl'].replace(to_replace=zero, value = 0)\n",
    "\n",
    "df['Benzos'] = df['Benzos'].replace(to_replace=one, value = 1)\n",
    "df['Benzos'] = df['Benzos'].replace(to_replace=zero, value = 0)\n",
    "\n",
    "df['Coke'] = df['Coke'].replace(to_replace=one, value = 1)\n",
    "df['Coke'] = df['Coke'].replace(to_replace=zero, value = 0)\n",
    "\n",
    "df['Crack'] = df['Crack'].replace(to_replace=one, value = 1)\n",
    "df['Crack'] = df['Crack'].replace(to_replace=zero, value = 0)\n",
    "\n",
    "df['Ecstasy'] = df['Ecstasy'].replace(to_replace=one, value = 1)\n",
    "df['Ecstasy'] = df['Ecstasy'].replace(to_replace=zero, value = 0)\n",
    "\n",
    "df['Heroin'] = df['Heroin'].replace(to_replace=one, value = 1)\n",
    "df['Heroin'] = df['Heroin'].replace(to_replace=zero, value = 0)\n",
    "\n",
    "df['Ketamine'] = df['Ketamine'].replace(to_replace=one, value = 1)\n",
    "df['Ketamine'] = df['Ketamine'].replace(to_replace=zero, value = 0)\n",
    "\n",
    "df['LSD'] = df['LSD'].replace(to_replace=one, value = 1)\n",
    "df['LSD'] = df['LSD'].replace(to_replace=zero, value = 0)\n",
    "\n",
    "df['Meth'] = df['Meth'].replace(to_replace=one, value = 1)\n",
    "df['Meth'] = df['Meth'].replace(to_replace=zero, value = 0)\n",
    "\n",
    "df['Mushrooms'] = df['Mushrooms'].replace(to_replace=one, value = 1)\n",
    "df['Mushrooms'] = df['Mushrooms'].replace(to_replace=zero, value = 0)\n",
    "\n",
    "df['VSA'] = df['VSA'].replace(to_replace=one, value = 1)\n",
    "df['VSA'] = df['VSA'].replace(to_replace=zero, value = 0)\n",
    "\n",
    "# Legal drugs\n",
    "df['Alcohol'] = df['Alcohol'].replace(to_replace=one, value = 1)\n",
    "df['Alcohol'] = df['Alcohol'].replace(to_replace=zero, value = 0)\n",
    "\n",
    "df['Caff'] = df['Caff'].replace(to_replace=one, value = 1)\n",
    "df['Caff'] = df['Caff'].replace(to_replace=zero, value = 0)\n",
    "\n",
    "df['Choc'] = df['Choc'].replace(to_replace=one, value = 1)\n",
    "df['Choc'] = df['Choc'].replace(to_replace=zero, value = 0)\n",
    "\n",
    "df['Legalh'] = df['Legalh'].replace(to_replace=one, value = 1)\n",
    "df['Legalh'] = df['Legalh'].replace(to_replace=zero, value = 0)\n",
    "\n",
    "df['Nicotine'] = df['Nicotine'].replace(to_replace=one, value = 1)\n",
    "df['Nicotine'] = df['Nicotine'].replace(to_replace=zero, value = 0)\n",
    "\n",
    "# Cannabis (left out of legal or illegal)\n",
    "df['Cannabis'] = df['Cannabis'].replace(to_replace=one, value = 1)\n",
    "df['Cannabis'] = df['Cannabis'].replace(to_replace=zero, value = 0)\n",
    "\n"
   ]
  },
  {
   "cell_type": "code",
   "execution_count": null,
   "id": "eb6d487b",
   "metadata": {},
   "outputs": [],
   "source": [
    "# creating illegal score sum column\n",
    "df['illegal_score_sum'] = df['Amphet'] + df['Amyl'] + df['Benzos'] + df['Coke'] + df['Crack'] + df['Ecstasy'] + df['Heroin'] + df['Ketamine'] + df['LSD'] + df['Meth'] +  df['Mushrooms'] + df['VSA']"
   ]
  },
  {
   "cell_type": "code",
   "execution_count": null,
   "id": "b3fc4dcc",
   "metadata": {},
   "outputs": [],
   "source": [
    "# Creating legal score sum (does not include cannabis)\n",
    "df['legal_score_sum'] = df['Alcohol'] + df['Caff'] + df['Choc'] + df['Legalh'] + df['Nicotine']"
   ]
  },
  {
   "cell_type": "code",
   "execution_count": null,
   "id": "a8a0c592",
   "metadata": {},
   "outputs": [],
   "source": [
    "# creating column for illegal use score\n",
    "i_score = []\n",
    "\n",
    "for i in df['illegal_score_sum']:\n",
    "    if i >= 1:\n",
    "        s = 1\n",
    "    else:\n",
    "        s = 0\n",
    "    i_score.append(s)\n",
    "\n",
    "df['illegal_use'] = i_score"
   ]
  },
  {
   "cell_type": "code",
   "execution_count": null,
   "id": "6a00321f",
   "metadata": {},
   "outputs": [],
   "source": [
    "#creating column for legal use score\n",
    "l_score = []\n",
    "\n",
    "for i in df['legal_score_sum']:\n",
    "    if i >= 1:\n",
    "        s = 1\n",
    "    else:\n",
    "        s = 0\n",
    "    l_score.append(s)\n",
    "\n",
    "df['legal_use'] = l_score"
   ]
  },
  {
   "cell_type": "code",
   "execution_count": null,
   "id": "a0fd850f",
   "metadata": {},
   "outputs": [],
   "source": [
    "df.head()"
   ]
  },
  {
   "cell_type": "code",
   "execution_count": null,
   "id": "65b71ca2",
   "metadata": {},
   "outputs": [],
   "source": [
    "df['illegal_use'].value_counts()"
   ]
  },
  {
   "cell_type": "code",
   "execution_count": null,
   "id": "50d2733d",
   "metadata": {},
   "outputs": [],
   "source": [
    "df['legal_use'].value_counts()"
   ]
  },
  {
   "cell_type": "code",
   "execution_count": null,
   "id": "d3f76d88",
   "metadata": {},
   "outputs": [],
   "source": [
    "df.to_csv('cleaned_drug_data.csv', index = False)"
   ]
  },
  {
   "cell_type": "code",
   "execution_count": null,
   "id": "403ea3fc",
   "metadata": {},
   "outputs": [],
   "source": []
  }
 ],
 "metadata": {
  "kernelspec": {
   "display_name": "Python 3 (ipykernel)",
   "language": "python",
   "name": "python3"
  },
  "language_info": {
   "codemirror_mode": {
    "name": "ipython",
    "version": 3
   },
   "file_extension": ".py",
   "mimetype": "text/x-python",
   "name": "python",
   "nbconvert_exporter": "python",
   "pygments_lexer": "ipython3",
   "version": "3.8.13"
  }
 },
 "nbformat": 4,
 "nbformat_minor": 5
}
