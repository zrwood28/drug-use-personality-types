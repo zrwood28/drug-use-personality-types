{
 "cells": [
  {
   "cell_type": "code",
   "execution_count": null,
   "id": "31a8adfa",
   "metadata": {},
   "outputs": [],
   "source": [
    "import pandas as pd"
   ]
  },
  {
   "cell_type": "code",
   "execution_count": null,
   "id": "c75362fe",
   "metadata": {},
   "outputs": [],
   "source": [
    "file = '../Resources/cleaned_drug_data.csv'\n",
    "\n",
    "df = pd.read_csv(file)\n",
    "\n",
    "df.head()"
   ]
  },
  {
   "cell_type": "code",
   "execution_count": null,
   "id": "221a3e32",
   "metadata": {},
   "outputs": [],
   "source": [
    "df.columns"
   ]
  },
  {
   "cell_type": "code",
   "execution_count": null,
   "id": "f3b2ab11",
   "metadata": {},
   "outputs": [],
   "source": [
    "#splitting df into test and target data\n",
    "X = df[['Age', 'Gender', 'Education', 'Country', 'Ethnicity',\\\n",
    "         'Nscore', 'Escore', 'Oscore', 'AScore', 'Cscore', 'Impulsive', 'SS']]\n",
    "\n",
    "y = df['illegal_use']\n"
   ]
  },
  {
   "cell_type": "markdown",
   "id": "d2d19db1",
   "metadata": {},
   "source": [
    "# SVC with All Features Scaled"
   ]
  },
  {
   "cell_type": "code",
   "execution_count": 5,
   "id": "04261660",
   "metadata": {},
   "outputs": [],
   "source": [
    "X_dummies = pd.get_dummies(X)"
   ]
  },
  {
   "cell_type": "code",
   "execution_count": 6,
   "id": "ea021d3c",
   "metadata": {},
   "outputs": [
    {
     "data": {
      "text/html": [
       "<div>\n",
       "<style scoped>\n",
       "    .dataframe tbody tr th:only-of-type {\n",
       "        vertical-align: middle;\n",
       "    }\n",
       "\n",
       "    .dataframe tbody tr th {\n",
       "        vertical-align: top;\n",
       "    }\n",
       "\n",
       "    .dataframe thead th {\n",
       "        text-align: right;\n",
       "    }\n",
       "</style>\n",
       "<table border=\"1\" class=\"dataframe\">\n",
       "  <thead>\n",
       "    <tr style=\"text-align: right;\">\n",
       "      <th></th>\n",
       "      <th>Nscore</th>\n",
       "      <th>Escore</th>\n",
       "      <th>Oscore</th>\n",
       "      <th>AScore</th>\n",
       "      <th>Cscore</th>\n",
       "      <th>Impulsive</th>\n",
       "      <th>SS</th>\n",
       "      <th>Age_18-24</th>\n",
       "      <th>Age_25-34</th>\n",
       "      <th>Age_35-44</th>\n",
       "      <th>...</th>\n",
       "      <th>Country_Republic of Ireland</th>\n",
       "      <th>Country_UK</th>\n",
       "      <th>Country_USA</th>\n",
       "      <th>Ethnicity_Asian</th>\n",
       "      <th>Ethnicity_Black</th>\n",
       "      <th>Ethnicity_Mixed-Black/Asian</th>\n",
       "      <th>Ethnicity_Mixed-White/Asian</th>\n",
       "      <th>Ethnicity_Mixed-White/Black</th>\n",
       "      <th>Ethnicity_Other</th>\n",
       "      <th>Ethnicity_White</th>\n",
       "    </tr>\n",
       "  </thead>\n",
       "  <tbody>\n",
       "    <tr>\n",
       "      <th>0</th>\n",
       "      <td>-0.67825</td>\n",
       "      <td>1.93886</td>\n",
       "      <td>1.43533</td>\n",
       "      <td>0.76096</td>\n",
       "      <td>-0.14277</td>\n",
       "      <td>-0.71126</td>\n",
       "      <td>-0.21575</td>\n",
       "      <td>0</td>\n",
       "      <td>1</td>\n",
       "      <td>0</td>\n",
       "      <td>...</td>\n",
       "      <td>0</td>\n",
       "      <td>1</td>\n",
       "      <td>0</td>\n",
       "      <td>0</td>\n",
       "      <td>0</td>\n",
       "      <td>0</td>\n",
       "      <td>0</td>\n",
       "      <td>0</td>\n",
       "      <td>0</td>\n",
       "      <td>1</td>\n",
       "    </tr>\n",
       "    <tr>\n",
       "      <th>1</th>\n",
       "      <td>-0.46725</td>\n",
       "      <td>0.80523</td>\n",
       "      <td>-0.84732</td>\n",
       "      <td>-1.62090</td>\n",
       "      <td>-1.01450</td>\n",
       "      <td>-1.37983</td>\n",
       "      <td>0.40148</td>\n",
       "      <td>0</td>\n",
       "      <td>0</td>\n",
       "      <td>1</td>\n",
       "      <td>...</td>\n",
       "      <td>0</td>\n",
       "      <td>1</td>\n",
       "      <td>0</td>\n",
       "      <td>0</td>\n",
       "      <td>0</td>\n",
       "      <td>0</td>\n",
       "      <td>0</td>\n",
       "      <td>0</td>\n",
       "      <td>0</td>\n",
       "      <td>1</td>\n",
       "    </tr>\n",
       "    <tr>\n",
       "      <th>2</th>\n",
       "      <td>-0.14882</td>\n",
       "      <td>-0.80615</td>\n",
       "      <td>-0.01928</td>\n",
       "      <td>0.59042</td>\n",
       "      <td>0.58489</td>\n",
       "      <td>-1.37983</td>\n",
       "      <td>-1.18084</td>\n",
       "      <td>1</td>\n",
       "      <td>0</td>\n",
       "      <td>0</td>\n",
       "      <td>...</td>\n",
       "      <td>0</td>\n",
       "      <td>1</td>\n",
       "      <td>0</td>\n",
       "      <td>0</td>\n",
       "      <td>0</td>\n",
       "      <td>0</td>\n",
       "      <td>0</td>\n",
       "      <td>0</td>\n",
       "      <td>0</td>\n",
       "      <td>1</td>\n",
       "    </tr>\n",
       "    <tr>\n",
       "      <th>3</th>\n",
       "      <td>0.73545</td>\n",
       "      <td>-1.63340</td>\n",
       "      <td>-0.45174</td>\n",
       "      <td>-0.30172</td>\n",
       "      <td>1.30612</td>\n",
       "      <td>-0.21712</td>\n",
       "      <td>-0.21575</td>\n",
       "      <td>0</td>\n",
       "      <td>0</td>\n",
       "      <td>1</td>\n",
       "      <td>...</td>\n",
       "      <td>0</td>\n",
       "      <td>1</td>\n",
       "      <td>0</td>\n",
       "      <td>0</td>\n",
       "      <td>0</td>\n",
       "      <td>0</td>\n",
       "      <td>0</td>\n",
       "      <td>0</td>\n",
       "      <td>0</td>\n",
       "      <td>1</td>\n",
       "    </tr>\n",
       "    <tr>\n",
       "      <th>4</th>\n",
       "      <td>-0.67825</td>\n",
       "      <td>-0.30033</td>\n",
       "      <td>-1.55521</td>\n",
       "      <td>2.03972</td>\n",
       "      <td>1.63088</td>\n",
       "      <td>-1.37983</td>\n",
       "      <td>-1.54858</td>\n",
       "      <td>0</td>\n",
       "      <td>0</td>\n",
       "      <td>0</td>\n",
       "      <td>...</td>\n",
       "      <td>0</td>\n",
       "      <td>0</td>\n",
       "      <td>0</td>\n",
       "      <td>0</td>\n",
       "      <td>0</td>\n",
       "      <td>0</td>\n",
       "      <td>0</td>\n",
       "      <td>0</td>\n",
       "      <td>0</td>\n",
       "      <td>1</td>\n",
       "    </tr>\n",
       "    <tr>\n",
       "      <th>...</th>\n",
       "      <td>...</td>\n",
       "      <td>...</td>\n",
       "      <td>...</td>\n",
       "      <td>...</td>\n",
       "      <td>...</td>\n",
       "      <td>...</td>\n",
       "      <td>...</td>\n",
       "      <td>...</td>\n",
       "      <td>...</td>\n",
       "      <td>...</td>\n",
       "      <td>...</td>\n",
       "      <td>...</td>\n",
       "      <td>...</td>\n",
       "      <td>...</td>\n",
       "      <td>...</td>\n",
       "      <td>...</td>\n",
       "      <td>...</td>\n",
       "      <td>...</td>\n",
       "      <td>...</td>\n",
       "      <td>...</td>\n",
       "      <td>...</td>\n",
       "    </tr>\n",
       "    <tr>\n",
       "      <th>1871</th>\n",
       "      <td>-1.19430</td>\n",
       "      <td>1.74091</td>\n",
       "      <td>1.88511</td>\n",
       "      <td>0.76096</td>\n",
       "      <td>-1.13788</td>\n",
       "      <td>0.88113</td>\n",
       "      <td>1.92173</td>\n",
       "      <td>1</td>\n",
       "      <td>0</td>\n",
       "      <td>0</td>\n",
       "      <td>...</td>\n",
       "      <td>0</td>\n",
       "      <td>0</td>\n",
       "      <td>1</td>\n",
       "      <td>0</td>\n",
       "      <td>0</td>\n",
       "      <td>0</td>\n",
       "      <td>0</td>\n",
       "      <td>0</td>\n",
       "      <td>0</td>\n",
       "      <td>1</td>\n",
       "    </tr>\n",
       "    <tr>\n",
       "      <th>1872</th>\n",
       "      <td>-0.24649</td>\n",
       "      <td>1.74091</td>\n",
       "      <td>0.58331</td>\n",
       "      <td>0.76096</td>\n",
       "      <td>-1.51840</td>\n",
       "      <td>0.88113</td>\n",
       "      <td>0.76540</td>\n",
       "      <td>1</td>\n",
       "      <td>0</td>\n",
       "      <td>0</td>\n",
       "      <td>...</td>\n",
       "      <td>0</td>\n",
       "      <td>0</td>\n",
       "      <td>1</td>\n",
       "      <td>0</td>\n",
       "      <td>0</td>\n",
       "      <td>0</td>\n",
       "      <td>0</td>\n",
       "      <td>0</td>\n",
       "      <td>0</td>\n",
       "      <td>1</td>\n",
       "    </tr>\n",
       "    <tr>\n",
       "      <th>1873</th>\n",
       "      <td>1.13281</td>\n",
       "      <td>-1.37639</td>\n",
       "      <td>-1.27553</td>\n",
       "      <td>-1.77200</td>\n",
       "      <td>-1.38502</td>\n",
       "      <td>0.52975</td>\n",
       "      <td>-0.52593</td>\n",
       "      <td>0</td>\n",
       "      <td>1</td>\n",
       "      <td>0</td>\n",
       "      <td>...</td>\n",
       "      <td>0</td>\n",
       "      <td>0</td>\n",
       "      <td>1</td>\n",
       "      <td>0</td>\n",
       "      <td>0</td>\n",
       "      <td>0</td>\n",
       "      <td>0</td>\n",
       "      <td>0</td>\n",
       "      <td>0</td>\n",
       "      <td>1</td>\n",
       "    </tr>\n",
       "    <tr>\n",
       "      <th>1874</th>\n",
       "      <td>0.91093</td>\n",
       "      <td>-1.92173</td>\n",
       "      <td>0.29338</td>\n",
       "      <td>-1.62090</td>\n",
       "      <td>-2.57309</td>\n",
       "      <td>1.29221</td>\n",
       "      <td>1.22470</td>\n",
       "      <td>1</td>\n",
       "      <td>0</td>\n",
       "      <td>0</td>\n",
       "      <td>...</td>\n",
       "      <td>0</td>\n",
       "      <td>0</td>\n",
       "      <td>1</td>\n",
       "      <td>0</td>\n",
       "      <td>0</td>\n",
       "      <td>0</td>\n",
       "      <td>0</td>\n",
       "      <td>0</td>\n",
       "      <td>0</td>\n",
       "      <td>1</td>\n",
       "    </tr>\n",
       "    <tr>\n",
       "      <th>1875</th>\n",
       "      <td>-0.46725</td>\n",
       "      <td>2.12700</td>\n",
       "      <td>1.65653</td>\n",
       "      <td>1.11406</td>\n",
       "      <td>0.41594</td>\n",
       "      <td>0.88113</td>\n",
       "      <td>1.22470</td>\n",
       "      <td>1</td>\n",
       "      <td>0</td>\n",
       "      <td>0</td>\n",
       "      <td>...</td>\n",
       "      <td>1</td>\n",
       "      <td>0</td>\n",
       "      <td>0</td>\n",
       "      <td>0</td>\n",
       "      <td>0</td>\n",
       "      <td>0</td>\n",
       "      <td>0</td>\n",
       "      <td>0</td>\n",
       "      <td>0</td>\n",
       "      <td>1</td>\n",
       "    </tr>\n",
       "  </tbody>\n",
       "</table>\n",
       "<p>1876 rows × 38 columns</p>\n",
       "</div>"
      ],
      "text/plain": [
       "       Nscore   Escore   Oscore   AScore   Cscore  Impulsive       SS  \\\n",
       "0    -0.67825  1.93886  1.43533  0.76096 -0.14277   -0.71126 -0.21575   \n",
       "1    -0.46725  0.80523 -0.84732 -1.62090 -1.01450   -1.37983  0.40148   \n",
       "2    -0.14882 -0.80615 -0.01928  0.59042  0.58489   -1.37983 -1.18084   \n",
       "3     0.73545 -1.63340 -0.45174 -0.30172  1.30612   -0.21712 -0.21575   \n",
       "4    -0.67825 -0.30033 -1.55521  2.03972  1.63088   -1.37983 -1.54858   \n",
       "...       ...      ...      ...      ...      ...        ...      ...   \n",
       "1871 -1.19430  1.74091  1.88511  0.76096 -1.13788    0.88113  1.92173   \n",
       "1872 -0.24649  1.74091  0.58331  0.76096 -1.51840    0.88113  0.76540   \n",
       "1873  1.13281 -1.37639 -1.27553 -1.77200 -1.38502    0.52975 -0.52593   \n",
       "1874  0.91093 -1.92173  0.29338 -1.62090 -2.57309    1.29221  1.22470   \n",
       "1875 -0.46725  2.12700  1.65653  1.11406  0.41594    0.88113  1.22470   \n",
       "\n",
       "      Age_18-24  Age_25-34  Age_35-44  ...  Country_Republic of Ireland  \\\n",
       "0             0          1          0  ...                            0   \n",
       "1             0          0          1  ...                            0   \n",
       "2             1          0          0  ...                            0   \n",
       "3             0          0          1  ...                            0   \n",
       "4             0          0          0  ...                            0   \n",
       "...         ...        ...        ...  ...                          ...   \n",
       "1871          1          0          0  ...                            0   \n",
       "1872          1          0          0  ...                            0   \n",
       "1873          0          1          0  ...                            0   \n",
       "1874          1          0          0  ...                            0   \n",
       "1875          1          0          0  ...                            1   \n",
       "\n",
       "      Country_UK  Country_USA  Ethnicity_Asian  Ethnicity_Black  \\\n",
       "0              1            0                0                0   \n",
       "1              1            0                0                0   \n",
       "2              1            0                0                0   \n",
       "3              1            0                0                0   \n",
       "4              0            0                0                0   \n",
       "...          ...          ...              ...              ...   \n",
       "1871           0            1                0                0   \n",
       "1872           0            1                0                0   \n",
       "1873           0            1                0                0   \n",
       "1874           0            1                0                0   \n",
       "1875           0            0                0                0   \n",
       "\n",
       "      Ethnicity_Mixed-Black/Asian  Ethnicity_Mixed-White/Asian  \\\n",
       "0                               0                            0   \n",
       "1                               0                            0   \n",
       "2                               0                            0   \n",
       "3                               0                            0   \n",
       "4                               0                            0   \n",
       "...                           ...                          ...   \n",
       "1871                            0                            0   \n",
       "1872                            0                            0   \n",
       "1873                            0                            0   \n",
       "1874                            0                            0   \n",
       "1875                            0                            0   \n",
       "\n",
       "      Ethnicity_Mixed-White/Black  Ethnicity_Other  Ethnicity_White  \n",
       "0                               0                0                1  \n",
       "1                               0                0                1  \n",
       "2                               0                0                1  \n",
       "3                               0                0                1  \n",
       "4                               0                0                1  \n",
       "...                           ...              ...              ...  \n",
       "1871                            0                0                1  \n",
       "1872                            0                0                1  \n",
       "1873                            0                0                1  \n",
       "1874                            0                0                1  \n",
       "1875                            0                0                1  \n",
       "\n",
       "[1876 rows x 38 columns]"
      ]
     },
     "execution_count": 6,
     "metadata": {},
     "output_type": "execute_result"
    }
   ],
   "source": [
    "X_dummies"
   ]
  },
  {
   "cell_type": "code",
   "execution_count": 7,
   "id": "3bf87044",
   "metadata": {},
   "outputs": [],
   "source": [
    "from sklearn.model_selection import train_test_split\n",
    "\n",
    "X_train, X_test, y_train, y_test = train_test_split(X_dummies, y, random_state=1)"
   ]
  },
  {
   "cell_type": "code",
   "execution_count": 8,
   "id": "b82aa3d2",
   "metadata": {},
   "outputs": [],
   "source": [
    "# scale training data\n",
    "from sklearn.preprocessing import StandardScaler\n",
    "\n",
    "scaler = StandardScaler().fit(X_train)\n",
    "X_train_scaled = scaler.transform(X_train)\n"
   ]
  },
  {
   "cell_type": "code",
   "execution_count": 9,
   "id": "93f6b818",
   "metadata": {},
   "outputs": [],
   "source": [
    "# scale X_test\n",
    "X_test_scaled = scaler.transform(X_test)\n"
   ]
  },
  {
   "cell_type": "code",
   "execution_count": 10,
   "id": "84b49410",
   "metadata": {},
   "outputs": [
    {
     "data": {
      "text/plain": [
       "SVC(kernel='linear')"
      ]
     },
     "execution_count": 10,
     "metadata": {},
     "output_type": "execute_result"
    }
   ],
   "source": [
    "# train support vector machine\n",
    "\n",
    "from sklearn.svm import SVC \n",
    "model = SVC(kernel='linear')\n",
    "model.fit(X_train, y_train)"
   ]
  },
  {
   "cell_type": "code",
   "execution_count": 11,
   "id": "89d5b44a",
   "metadata": {},
   "outputs": [
    {
     "name": "stdout",
     "output_type": "stream",
     "text": [
      "Test Acc: 0.808\n"
     ]
    }
   ],
   "source": [
    "print('Test Acc: %.3f' % model.score(X_test, y_test))"
   ]
  },
  {
   "cell_type": "code",
   "execution_count": 12,
   "id": "27c623ed",
   "metadata": {},
   "outputs": [
    {
     "name": "stdout",
     "output_type": "stream",
     "text": [
      "              precision    recall  f1-score   support\n",
      "\n",
      "    non-user       0.78      0.83      0.80       220\n",
      "        user       0.84      0.79      0.81       249\n",
      "\n",
      "    accuracy                           0.81       469\n",
      "   macro avg       0.81      0.81      0.81       469\n",
      "weighted avg       0.81      0.81      0.81       469\n",
      "\n"
     ]
    }
   ],
   "source": [
    "from sklearn.metrics import classification_report\n",
    "\n",
    "target_names = ['non-user', 'user']\n",
    "\n",
    "predictions = model.predict(X_test)\n",
    "print(classification_report(y_test, predictions,\n",
    "                            target_names=target_names))"
   ]
  },
  {
   "cell_type": "markdown",
   "id": "480332db",
   "metadata": {},
   "source": [
    "# SVC with only personality"
   ]
  },
  {
   "cell_type": "code",
   "execution_count": 13,
   "id": "11baf9a7",
   "metadata": {},
   "outputs": [],
   "source": [
    "X = df[['Nscore', 'Escore', 'Oscore', 'AScore', 'Cscore', 'Impulsive', 'SS']]\n",
    "X_dummies = pd.get_dummies(X)"
   ]
  },
  {
   "cell_type": "code",
   "execution_count": 14,
   "id": "28328b9a",
   "metadata": {},
   "outputs": [],
   "source": [
    "X = df[['Age', 'Nscore', 'Escore', 'Oscore', 'AScore', 'Cscore', 'Impulsive', 'SS']]\n",
    "X_dummies = pd.get_dummies(X)"
   ]
  },
  {
   "cell_type": "code",
   "execution_count": 15,
   "id": "67b36950",
   "metadata": {},
   "outputs": [],
   "source": [
    "from sklearn.model_selection import train_test_split\n",
    "\n",
    "X_train, X_test, y_train, y_test = train_test_split(X_dummies, y, random_state=1)"
   ]
  },
  {
   "cell_type": "code",
   "execution_count": 16,
   "id": "8d764165",
   "metadata": {},
   "outputs": [],
   "source": [
    "# scale training data\n",
    "from sklearn.preprocessing import StandardScaler\n",
    "\n",
    "scaler = StandardScaler().fit(X_train)\n",
    "X_train_scaled = scaler.transform(X_train)\n"
   ]
  },
  {
   "cell_type": "code",
   "execution_count": 17,
   "id": "d8580be2",
   "metadata": {},
   "outputs": [],
   "source": [
    "# scale X_test\n",
    "X_test_scaled = scaler.transform(X_test)"
   ]
  },
  {
   "cell_type": "code",
   "execution_count": 18,
   "id": "04c3d1ac",
   "metadata": {},
   "outputs": [
    {
     "data": {
      "text/plain": [
       "SVC(kernel='linear')"
      ]
     },
     "execution_count": 18,
     "metadata": {},
     "output_type": "execute_result"
    }
   ],
   "source": [
    "# train support vector machine\n",
    "\n",
    "from sklearn.svm import SVC \n",
    "model = SVC(kernel='linear')\n",
    "model.fit(X_train, y_train)"
   ]
  },
  {
   "cell_type": "code",
   "execution_count": 19,
   "id": "2bd6ea6c",
   "metadata": {},
   "outputs": [
    {
     "name": "stdout",
     "output_type": "stream",
     "text": [
      "Test Acc: 0.776\n"
     ]
    }
   ],
   "source": [
    "print('Test Acc: %.3f' % model.score(X_test, y_test))"
   ]
  },
  {
   "cell_type": "code",
   "execution_count": 20,
   "id": "79d42980",
   "metadata": {},
   "outputs": [
    {
     "name": "stdout",
     "output_type": "stream",
     "text": [
      "              precision    recall  f1-score   support\n",
      "\n",
      "    non-user       0.77      0.75      0.76       220\n",
      "        user       0.78      0.80      0.79       249\n",
      "\n",
      "    accuracy                           0.78       469\n",
      "   macro avg       0.78      0.77      0.77       469\n",
      "weighted avg       0.78      0.78      0.78       469\n",
      "\n"
     ]
    }
   ],
   "source": [
    "from sklearn.metrics import classification_report\n",
    "\n",
    "target_names = ['non-user', 'user']\n",
    "\n",
    "predictions = model.predict(X_test)\n",
    "print(classification_report(y_test, predictions,\n",
    "                            target_names=target_names))"
   ]
  },
  {
   "cell_type": "markdown",
   "id": "40e32c6f",
   "metadata": {},
   "source": [
    "## SVC for Individual Drugs"
   ]
  },
  {
   "cell_type": "code",
   "execution_count": null,
   "id": "cda48697",
   "metadata": {},
   "outputs": [],
   "source": [
    "#splitting df into test and target data\n",
    "X = df[['Age', 'Gender', 'Education', 'Country', 'Ethnicity',\\\n",
    "         'Nscore', 'Escore', 'Oscore', 'AScore', 'Cscore', 'Impulsive', 'SS']]\n",
    "X_dummies = pd.get_dummies(X)"
   ]
  },
  {
   "cell_type": "code",
   "execution_count": null,
   "id": "512f346c",
   "metadata": {},
   "outputs": [],
   "source": [
    "drugs = ['Alcohol','Amphet', 'Amyl', 'Benzos', 'Caff',\\\n",
    "         'Cannabis', 'Choc', 'Coke', 'Crack','Ecstasy',\\\n",
    "         'Heroin', 'Ketamine', 'Legalh', 'LSD', 'Meth', 'Mushrooms',\\\n",
    "         'Nicotine', 'VSA']\n",
    "\n",
    "for drug in drugs:\n",
    "    y = df[drug]\n",
    "    \n",
    "    X_train, X_test, y_train, y_test = train_test_split(X_dummies, y, random_state=1)\n",
    "    \n",
    "    scaler = StandardScaler().fit(X_train)\n",
    "    X_train_scaled = scaler.transform(X_train)\n",
    "    X_test_scaled = scaler.transform(X_test)\n",
    "    \n",
    "    model = SVC(kernel='linear')\n",
    "    model.fit(X_train, y_train)\n",
    "    \n",
    "    print(drug)\n",
    "    print(y.value_counts())\n",
    "    \n",
    "    print('Test Acc: %.3f' % model.score(X_test, y_test))\n",
    "    \n",
    "    target_names = ['non-user', 'user']\n",
    "\n",
    "    predictions = model.predict(X_test)\n",
    "    print(drug)\n",
    "    print(classification_report(y_test, predictions,\n",
    "                            target_names=target_names))\n",
    "    \n"
   ]
  },
  {
   "cell_type": "markdown",
   "id": "ac230a11",
   "metadata": {},
   "source": [
    "# Visualizing Individual Drugs"
   ]
  },
  {
   "cell_type": "code",
   "execution_count": null,
   "id": "786ec275",
   "metadata": {},
   "outputs": [],
   "source": [
    " from sklearn.manifold import TSNE\n",
    " import matplotlib.pyplot as plt"
   ]
  },
  {
   "cell_type": "code",
   "execution_count": null,
   "id": "56869d56",
   "metadata": {},
   "outputs": [],
   "source": [
    "for drug in drugs:\n",
    "    tsne = TSNE(learning_rate=35)\n",
    "    X_dummies = pd.get_dummies(X)\n",
    "    tsne_features = tsne.fit_transform(X_dummies)\n",
    "    \n",
    "    # The first column of transformed features\n",
    "    X_dummies['x'] = tsne_features[:,0]\n",
    "\n",
    "    # The second column of transformed features\n",
    "    X_dummies['y'] = tsne_features[:,1]\n",
    "    \n",
    "    labels = df[drug]\n",
    "    \n",
    "    plt.scatter(X_dummies['x'], X_dummies['y'], c=labels)\n",
    "    plt.show()"
   ]
  },
  {
   "cell_type": "code",
   "execution_count": null,
   "id": "e50ffbf8",
   "metadata": {},
   "outputs": [],
   "source": []
  },
  {
   "cell_type": "markdown",
   "id": "8aea8815",
   "metadata": {},
   "source": [
    "## Visualizing Clusters"
   ]
  },
  {
   "cell_type": "code",
   "execution_count": null,
   "id": "e1420886",
   "metadata": {},
   "outputs": [],
   "source": [
    " from sklearn.manifold import TSNE\n",
    " import matplotlib.pyplot as plt"
   ]
  },
  {
   "cell_type": "code",
   "execution_count": null,
   "id": "86535a04",
   "metadata": {},
   "outputs": [],
   "source": [
    " # Initialize t-SNE model\n",
    "tsne = TSNE(learning_rate=35)"
   ]
  },
  {
   "cell_type": "code",
   "execution_count": null,
   "id": "ec1372f2",
   "metadata": {},
   "outputs": [],
   "source": [
    "# Reduce dimensions\n",
    "X_dummies = pd.get_dummies(X)\n",
    "tsne_features = tsne.fit_transform(X_dummies)"
   ]
  },
  {
   "cell_type": "code",
   "execution_count": null,
   "id": "eae3d2a4",
   "metadata": {},
   "outputs": [],
   "source": [
    " # Prepare to plot the dataset\n",
    "\n",
    "# The first column of transformed features\n",
    "X_dummies['x'] = tsne_features[:,0]\n",
    "\n",
    "# The second column of transformed features\n",
    "X_dummies['y'] = tsne_features[:,1]"
   ]
  },
  {
   "cell_type": "code",
   "execution_count": null,
   "id": "89a69f60",
   "metadata": {},
   "outputs": [],
   "source": [
    "labels = y\n",
    "labels.value_counts()"
   ]
  },
  {
   "cell_type": "code",
   "execution_count": null,
   "id": "f758f47d",
   "metadata": {},
   "outputs": [],
   "source": [
    " # Visualize the clusters\n",
    "plt.scatter(X_dummies['x'], X_dummies['y'], c=labels)\n",
    "plt.show()"
   ]
  }
 ],
 "metadata": {
  "kernelspec": {
   "display_name": "Python 3 (ipykernel)",
   "language": "python",
   "name": "python3"
  },
  "language_info": {
   "codemirror_mode": {
    "name": "ipython",
    "version": 3
   },
   "file_extension": ".py",
   "mimetype": "text/x-python",
   "name": "python",
   "nbconvert_exporter": "python",
   "pygments_lexer": "ipython3",
   "version": "3.8.13"
  }
 },
 "nbformat": 4,
 "nbformat_minor": 5
}
