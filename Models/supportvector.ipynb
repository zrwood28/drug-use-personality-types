{
 "cells": [
  {
   "cell_type": "code",
   "execution_count": null,
   "id": "31a8adfa",
   "metadata": {},
   "outputs": [],
   "source": [
    "import pandas as pd"
   ]
  },
  {
   "cell_type": "code",
   "execution_count": null,
   "id": "c75362fe",
   "metadata": {},
   "outputs": [],
   "source": [
    "file = '../Resources/cleaned_drug_data.csv'\n",
    "\n",
    "df = pd.read_csv(file)\n",
    "\n",
    "df.head()"
   ]
  },
  {
   "cell_type": "code",
   "execution_count": null,
   "id": "221a3e32",
   "metadata": {},
   "outputs": [],
   "source": [
    "df.columns"
   ]
  },
  {
   "cell_type": "code",
   "execution_count": null,
   "id": "f3b2ab11",
   "metadata": {},
   "outputs": [],
   "source": [
    "#splitting df into test and target data\n",
    "X = df[['Age', 'Gender', 'Education', 'Country', 'Ethnicity',\\\n",
    "         'Nscore', 'Escore', 'Oscore', 'AScore', 'Cscore', 'Impulsive', 'SS']]\n",
    "\n",
    "y = df['illegal_use']\n"
   ]
  },
  {
   "cell_type": "markdown",
   "id": "d2d19db1",
   "metadata": {},
   "source": [
    "# SVC with All Features Scaled"
   ]
  },
  {
   "cell_type": "code",
   "execution_count": null,
   "id": "04261660",
   "metadata": {},
   "outputs": [],
   "source": [
    "X_dummies = pd.get_dummies(X)"
   ]
  },
  {
   "cell_type": "code",
   "execution_count": null,
   "id": "ea021d3c",
   "metadata": {},
   "outputs": [],
   "source": [
    "X_dummies"
   ]
  },
  {
   "cell_type": "code",
   "execution_count": null,
   "id": "3bf87044",
   "metadata": {},
   "outputs": [],
   "source": [
    "from sklearn.model_selection import train_test_split\n",
    "\n",
    "X_train, X_test, y_train, y_test = train_test_split(X_dummies, y, random_state=1)"
   ]
  },
  {
   "cell_type": "code",
   "execution_count": null,
   "id": "b82aa3d2",
   "metadata": {},
   "outputs": [],
   "source": [
    "# scale training data\n",
    "from sklearn.preprocessing import StandardScaler\n",
    "\n",
    "scaler = StandardScaler().fit(X_train)\n",
    "X_train_scaled = scaler.transform(X_train)\n"
   ]
  },
  {
   "cell_type": "code",
   "execution_count": null,
   "id": "93f6b818",
   "metadata": {},
   "outputs": [],
   "source": [
    "# scale X_test\n",
    "X_test_scaled = scaler.transform(X_test)\n"
   ]
  },
  {
   "cell_type": "code",
   "execution_count": null,
   "id": "84b49410",
   "metadata": {},
   "outputs": [],
   "source": [
    "# train support vector machine\n",
    "\n",
    "from sklearn.svm import SVC \n",
    "model = SVC(kernel='linear')\n",
    "model.fit(X_train, y_train)"
   ]
  },
  {
   "cell_type": "code",
   "execution_count": null,
   "id": "89d5b44a",
   "metadata": {},
   "outputs": [],
   "source": [
    "print('Test Acc: %.3f' % model.score(X_test, y_test))"
   ]
  },
  {
   "cell_type": "code",
   "execution_count": null,
   "id": "27c623ed",
   "metadata": {},
   "outputs": [],
   "source": [
    "from sklearn.metrics import classification_report\n",
    "\n",
    "target_names = ['non-user', 'user']\n",
    "\n",
    "predictions = model.predict(X_test)\n",
    "print(classification_report(y_test, predictions,\n",
    "                            target_names=target_names))"
   ]
  },
  {
   "cell_type": "markdown",
   "id": "480332db",
   "metadata": {},
   "source": [
    "# SVC with only personality"
   ]
  },
  {
   "cell_type": "code",
   "execution_count": null,
   "id": "11baf9a7",
   "metadata": {},
   "outputs": [],
   "source": [
    "X = df[['Nscore', 'Escore', 'Oscore', 'AScore', 'Cscore', 'Impulsive', 'SS']]\n",
    "X_dummies = pd.get_dummies(X)"
   ]
  },
  {
   "cell_type": "code",
   "execution_count": null,
   "id": "28328b9a",
   "metadata": {},
   "outputs": [],
   "source": [
    "X = df[['Age', 'Nscore', 'Escore', 'Oscore', 'AScore', 'Cscore', 'Impulsive', 'SS']]\n",
    "X_dummies = pd.get_dummies(X)"
   ]
  },
  {
   "cell_type": "code",
   "execution_count": null,
   "id": "67b36950",
   "metadata": {},
   "outputs": [],
   "source": [
    "from sklearn.model_selection import train_test_split\n",
    "\n",
    "X_train, X_test, y_train, y_test = train_test_split(X_dummies, y, random_state=1)"
   ]
  },
  {
   "cell_type": "code",
   "execution_count": null,
   "id": "8d764165",
   "metadata": {},
   "outputs": [],
   "source": [
    "# scale training data\n",
    "from sklearn.preprocessing import StandardScaler\n",
    "\n",
    "scaler = StandardScaler().fit(X_train)\n",
    "X_train_scaled = scaler.transform(X_train)\n"
   ]
  },
  {
   "cell_type": "code",
   "execution_count": null,
   "id": "d8580be2",
   "metadata": {},
   "outputs": [],
   "source": [
    "# scale X_test\n",
    "X_test_scaled = scaler.transform(X_test)"
   ]
  },
  {
   "cell_type": "code",
   "execution_count": null,
   "id": "04c3d1ac",
   "metadata": {},
   "outputs": [],
   "source": [
    "# train support vector machine\n",
    "\n",
    "from sklearn.svm import SVC \n",
    "model = SVC(kernel='linear')\n",
    "model.fit(X_train, y_train)"
   ]
  },
  {
   "cell_type": "code",
   "execution_count": null,
   "id": "2bd6ea6c",
   "metadata": {},
   "outputs": [],
   "source": [
    "print('Test Acc: %.3f' % model.score(X_test, y_test))"
   ]
  },
  {
   "cell_type": "code",
   "execution_count": null,
   "id": "79d42980",
   "metadata": {},
   "outputs": [],
   "source": [
    "from sklearn.metrics import classification_report\n",
    "\n",
    "target_names = ['non-user', 'user']\n",
    "\n",
    "predictions = model.predict(X_test)\n",
    "print(classification_report(y_test, predictions,\n",
    "                            target_names=target_names))"
   ]
  },
  {
   "cell_type": "markdown",
   "id": "40e32c6f",
   "metadata": {},
   "source": [
    "## SVC for Individual Drugs"
   ]
  },
  {
   "cell_type": "code",
   "execution_count": null,
   "id": "cda48697",
   "metadata": {},
   "outputs": [],
   "source": [
    "#splitting df into test and target data\n",
    "X = df[['Age', 'Gender', 'Education', 'Country', 'Ethnicity',\\\n",
    "         'Nscore', 'Escore', 'Oscore', 'AScore', 'Cscore', 'Impulsive', 'SS']]\n",
    "X_dummies = pd.get_dummies(X)"
   ]
  },
  {
   "cell_type": "code",
   "execution_count": null,
   "id": "512f346c",
   "metadata": {},
   "outputs": [],
   "source": [
    "drugs = ['Alcohol','Amphet', 'Amyl', 'Benzos', 'Caff',\\\n",
    "         'Cannabis', 'Choc', 'Coke', 'Crack','Ecstasy',\\\n",
    "         'Heroin', 'Ketamine', 'Legalh', 'LSD', 'Meth', 'Mushrooms',\\\n",
    "         'Nicotine', 'VSA']\n",
    "\n",
    "for drug in drugs:\n",
    "    y = df[drug]\n",
    "    \n",
    "    X_train, X_test, y_train, y_test = train_test_split(X_dummies, y, random_state=1)\n",
    "    \n",
    "    scaler = StandardScaler().fit(X_train)\n",
    "    X_train_scaled = scaler.transform(X_train)\n",
    "    X_test_scaled = scaler.transform(X_test)\n",
    "    \n",
    "    model = SVC(kernel='linear')\n",
    "    model.fit(X_train, y_train)\n",
    "    \n",
    "    print(drug)\n",
    "    print(y.value_counts())\n",
    "    \n",
    "    print('Test Acc: %.3f' % model.score(X_test, y_test))\n",
    "    \n",
    "    target_names = ['non-user', 'user']\n",
    "\n",
    "    predictions = model.predict(X_test)\n",
    "    print(drug)\n",
    "    print(classification_report(y_test, predictions,\n",
    "                            target_names=target_names))\n",
    "    \n"
   ]
  },
  {
   "cell_type": "markdown",
   "id": "ac230a11",
   "metadata": {},
   "source": [
    "# Visualizing Individual Drugs"
   ]
  },
  {
   "cell_type": "code",
   "execution_count": null,
   "id": "786ec275",
   "metadata": {},
   "outputs": [],
   "source": [
    " from sklearn.manifold import TSNE\n",
    " import matplotlib.pyplot as plt"
   ]
  },
  {
   "cell_type": "code",
   "execution_count": null,
   "id": "56869d56",
   "metadata": {},
   "outputs": [],
   "source": [
    "for drug in drugs:\n",
    "    tsne = TSNE(learning_rate=35)\n",
    "    X_dummies = pd.get_dummies(X)\n",
    "    tsne_features = tsne.fit_transform(X_dummies)\n",
    "    \n",
    "    # The first column of transformed features\n",
    "    X_dummies['x'] = tsne_features[:,0]\n",
    "\n",
    "    # The second column of transformed features\n",
    "    X_dummies['y'] = tsne_features[:,1]\n",
    "    \n",
    "    labels = df[drug]\n",
    "    \n",
    "    plt.scatter(X_dummies['x'], X_dummies['y'], c=labels)\n",
    "    plt.show()"
   ]
  },
  {
   "cell_type": "code",
   "execution_count": null,
   "id": "e50ffbf8",
   "metadata": {},
   "outputs": [],
   "source": []
  },
  {
   "cell_type": "markdown",
   "id": "8aea8815",
   "metadata": {},
   "source": [
    "## Visualizing Clusters"
   ]
  },
  {
   "cell_type": "code",
   "execution_count": null,
   "id": "e1420886",
   "metadata": {},
   "outputs": [],
   "source": [
    " from sklearn.manifold import TSNE\n",
    " import matplotlib.pyplot as plt"
   ]
  },
  {
   "cell_type": "code",
   "execution_count": null,
   "id": "86535a04",
   "metadata": {},
   "outputs": [],
   "source": [
    " # Initialize t-SNE model\n",
    "tsne = TSNE(learning_rate=35)"
   ]
  },
  {
   "cell_type": "code",
   "execution_count": null,
   "id": "ec1372f2",
   "metadata": {},
   "outputs": [],
   "source": [
    "# Reduce dimensions\n",
    "X_dummies = pd.get_dummies(X)\n",
    "tsne_features = tsne.fit_transform(X_dummies)"
   ]
  },
  {
   "cell_type": "code",
   "execution_count": null,
   "id": "eae3d2a4",
   "metadata": {},
   "outputs": [],
   "source": [
    " # Prepare to plot the dataset\n",
    "\n",
    "# The first column of transformed features\n",
    "X_dummies['x'] = tsne_features[:,0]\n",
    "\n",
    "# The second column of transformed features\n",
    "X_dummies['y'] = tsne_features[:,1]"
   ]
  },
  {
   "cell_type": "code",
   "execution_count": null,
   "id": "89a69f60",
   "metadata": {},
   "outputs": [],
   "source": [
    "labels = y\n",
    "labels.value_counts()"
   ]
  },
  {
   "cell_type": "code",
   "execution_count": null,
   "id": "f758f47d",
   "metadata": {},
   "outputs": [],
   "source": [
    " # Visualize the clusters\n",
    "plt.scatter(X_dummies['x'], X_dummies['y'], c=labels)\n",
    "plt.show()"
   ]
  }
 ],
 "metadata": {
  "kernelspec": {
   "display_name": "Python 3 (ipykernel)",
   "language": "python",
   "name": "python3"
  },
  "language_info": {
   "codemirror_mode": {
    "name": "ipython",
    "version": 3
   },
   "file_extension": ".py",
   "mimetype": "text/x-python",
   "name": "python",
   "nbconvert_exporter": "python",
   "pygments_lexer": "ipython3",
   "version": "3.8.13"
  }
 },
 "nbformat": 4,
 "nbformat_minor": 5
}
