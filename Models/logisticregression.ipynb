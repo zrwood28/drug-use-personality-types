{
 "cells": [
  {
   "cell_type": "code",
   "execution_count": null,
   "id": "30724097",
   "metadata": {},
   "outputs": [],
   "source": [
    "# Import pandas\n",
    "import pandas as pd"
   ]
  },
  {
   "cell_type": "code",
   "execution_count": null,
   "id": "8faf9cb6",
   "metadata": {},
   "outputs": [],
   "source": [
    "# Create connection to data source\n",
    "file_path = (\"../Resources/cleaned_drug_data.csv\")\n",
    "df = pd.read_csv(file_path)\n",
    "\n",
    "df"
   ]
  },
  {
   "cell_type": "code",
   "execution_count": null,
   "id": "b8730f17",
   "metadata": {},
   "outputs": [],
   "source": [
    "# Display DataFrame columns\n",
    "df.columns"
   ]
  },
  {
   "cell_type": "code",
   "execution_count": null,
   "id": "b6817b9f",
   "metadata": {},
   "outputs": [],
   "source": [
    "# Create a new DataFrame with desired variables\n",
    "filtered_df = df[[\"Age\", \"Gender\", \"Education\", \"Country\", \"Ethnicity\", \"Nscore\", \"Escore\", \"Oscore\", \"AScore\", \"Cscore\",\\\n",
    "                    \"Impulsive\", \"SS\", \"illegal_use\"]]"
   ]
  },
  {
   "cell_type": "code",
   "execution_count": null,
   "id": "8a63afea",
   "metadata": {},
   "outputs": [],
   "source": [
    "# Import sklearn dependencies\n",
    "from sklearn.preprocessing import StandardScaler\n",
    "from sklearn.model_selection import train_test_split"
   ]
  },
  {
   "cell_type": "code",
   "execution_count": null,
   "id": "9b844e08",
   "metadata": {},
   "outputs": [],
   "source": [
    "# Create features and target variables\n",
    "X = filtered_df.drop(\"illegal_use\", axis = 1)\n",
    "y = filtered_df[\"illegal_use\"]"
   ]
  },
  {
   "cell_type": "code",
   "execution_count": null,
   "id": "e3d8747c",
   "metadata": {},
   "outputs": [],
   "source": [
    "# Encode categorical data\n",
    "X_dummies = pd.get_dummies(X)"
   ]
  },
  {
   "cell_type": "code",
   "execution_count": null,
   "id": "62cbd911",
   "metadata": {},
   "outputs": [],
   "source": [
    "# Display new DataFrame\n",
    "X_dummies"
   ]
  },
  {
   "cell_type": "code",
   "execution_count": null,
   "id": "0053b483",
   "metadata": {},
   "outputs": [],
   "source": [
    "# Import PCA dependency\n",
    "from sklearn.decomposition import PCA"
   ]
  },
  {
   "cell_type": "code",
   "execution_count": null,
   "id": "24e6ba64",
   "metadata": {},
   "outputs": [],
   "source": [
    "# Set up feature reduction to account for 90% variance\n",
    "pca = PCA(n_components = .90)"
   ]
  },
  {
   "cell_type": "code",
   "execution_count": null,
   "id": "50ee1095",
   "metadata": {},
   "outputs": [],
   "source": [
    "# Transform the data\n",
    "pca_array = pca.fit_transform(X_dummies)"
   ]
  },
  {
   "cell_type": "code",
   "execution_count": null,
   "id": "3f13828f",
   "metadata": {},
   "outputs": [],
   "source": [
    "# Display the variance attributed to each new feature\n",
    "pca.explained_variance_ratio_"
   ]
  },
  {
   "cell_type": "code",
   "execution_count": null,
   "id": "500d8487",
   "metadata": {},
   "outputs": [],
   "source": [
    "# Create training and testing sets\n",
    "X_train, X_test, y_train, y_test = train_test_split(pca_array, y)"
   ]
  },
  {
   "cell_type": "code",
   "execution_count": null,
   "id": "14c78bf0",
   "metadata": {},
   "outputs": [],
   "source": [
    "# Scale the data\n",
    "scaler = StandardScaler().fit(X_train)\n",
    "X_train_scaled = scaler.transform(X_train)\n",
    "X_test_scaled = scaler.transform(X_test)"
   ]
  },
  {
   "cell_type": "markdown",
   "id": "2bdc54e7",
   "metadata": {},
   "source": [
    "# Logistic Regression with feature reduction (PCA)"
   ]
  },
  {
   "cell_type": "code",
   "execution_count": null,
   "id": "b7e01950",
   "metadata": {},
   "outputs": [],
   "source": [
    "# Create the logistic regression classifier\n",
    "from sklearn.linear_model import LogisticRegression\n",
    "classifier = LogisticRegression()"
   ]
  },
  {
   "cell_type": "code",
   "execution_count": null,
   "id": "22093c4f",
   "metadata": {},
   "outputs": [],
   "source": [
    "# Fit the classifier to the data\n",
    "classifier.fit(X_train_scaled, y_train)"
   ]
  },
  {
   "cell_type": "code",
   "execution_count": null,
   "id": "547640a6",
   "metadata": {},
   "outputs": [],
   "source": [
    "# Display model results\n",
    "print(f\"Training Accuracy: {classifier.score(X_train_scaled, y_train)}\")\n",
    "print(f\"Testing Accuracy: {classifier.score(X_test_scaled, y_test)}\")"
   ]
  },
  {
   "cell_type": "code",
   "execution_count": null,
   "id": "0e8cac58",
   "metadata": {},
   "outputs": [],
   "source": [
    "# Create a confusion matrix graphic\n",
    "from sklearn.metrics import confusion_matrix, ConfusionMatrixDisplay\n",
    "import matplotlib.pyplot as plt\n",
    "\n",
    "predictions = classifier.predict(X_test)\n",
    "cm = confusion_matrix(y_test, predictions, labels = classifier.classes_)\n",
    "cm_plot = ConfusionMatrixDisplay(confusion_matrix = cm, display_labels = classifier.classes_)\n",
    "\n",
    "cm_plot.plot()\n",
    "plt.show()"
   ]
  },
  {
   "cell_type": "markdown",
   "id": "4df5ea55",
   "metadata": {},
   "source": [
    "# Random Forest with feature reduction (PCA)"
   ]
  },
  {
   "cell_type": "code",
   "execution_count": null,
   "id": "bbce9c5b",
   "metadata": {},
   "outputs": [],
   "source": [
    "# Import RF dependency\n",
    "from sklearn.ensemble import RandomForestClassifier"
   ]
  },
  {
   "cell_type": "code",
   "execution_count": null,
   "id": "3e54a7ee",
   "metadata": {},
   "outputs": [],
   "source": [
    "# Create classifier and score model\n",
    "clf = RandomForestClassifier(n_estimators = 500, max_depth = 10).fit(X_train_scaled, y_train)\n",
    "print(f\"Training Accuracy: {clf.score(X_train_scaled, y_train)}\")\n",
    "print(f\"Testing Accuracy: {clf.score(X_test_scaled, y_test)}\")"
   ]
  },
  {
   "cell_type": "code",
   "execution_count": null,
   "id": "070c7605",
   "metadata": {},
   "outputs": [],
   "source": [
    "# Copy the DataFrame\n",
    "copy_df = X_dummies.copy()\n",
    "copy_df.head()"
   ]
  },
  {
   "cell_type": "code",
   "execution_count": null,
   "id": "85f66907",
   "metadata": {},
   "outputs": [],
   "source": [
    "# Use this copy to filter demographic variables out\n",
    "personality_df = copy_df[[\"Nscore\", \"Escore\", \"Oscore\", \"AScore\", \"Cscore\", \"Impulsive\", \"SS\"]]"
   ]
  },
  {
   "cell_type": "code",
   "execution_count": null,
   "id": "57e6d5dc",
   "metadata": {},
   "outputs": [],
   "source": [
    "# Display new personality DataFrame\n",
    "personality_df"
   ]
  },
  {
   "cell_type": "code",
   "execution_count": null,
   "id": "fe77bc22",
   "metadata": {},
   "outputs": [],
   "source": [
    "# Create new training and testing sets\n",
    "X_train, X_test, y_train, y_test = train_test_split(personality_df, y)"
   ]
  },
  {
   "cell_type": "code",
   "execution_count": null,
   "id": "fa3d6c5a",
   "metadata": {},
   "outputs": [],
   "source": [
    "# Scale personality data\n",
    "scaler = StandardScaler().fit(X_train)\n",
    "X_train_scaled = scaler.transform(X_train)\n",
    "X_test_scaled = scaler.transform(X_test)"
   ]
  },
  {
   "cell_type": "markdown",
   "id": "c6155bd2",
   "metadata": {},
   "source": [
    "# Logistic Regression with only personality variables"
   ]
  },
  {
   "cell_type": "code",
   "execution_count": null,
   "id": "d4e5a379",
   "metadata": {},
   "outputs": [],
   "source": [
    "# Create another logistic regression classifier\n",
    "classifier = LogisticRegression()"
   ]
  },
  {
   "cell_type": "code",
   "execution_count": null,
   "id": "a3686b90",
   "metadata": {},
   "outputs": [],
   "source": [
    "# Fit classifier to data\n",
    "classifier.fit(X_train_scaled, y_train)"
   ]
  },
  {
   "cell_type": "code",
   "execution_count": null,
   "id": "b76935c6",
   "metadata": {},
   "outputs": [],
   "source": [
    "# Print model scores for personality data\n",
    "print(f\"Training Accuracy: {classifier.score(X_train_scaled, y_train)}\")\n",
    "print(f\"Testing Accuracy: {classifier.score(X_test_scaled, y_test)}\")"
   ]
  },
  {
   "cell_type": "code",
   "execution_count": null,
   "id": "3958cf8c",
   "metadata": {},
   "outputs": [],
   "source": [
    "# Show confusion matrix\n",
    "predictions = classifier.predict(X_test)\n",
    "cm = confusion_matrix(y_test, predictions, labels = classifier.classes_)\n",
    "cm_plot = ConfusionMatrixDisplay(confusion_matrix = cm, display_labels = classifier.classes_)\n",
    "\n",
    "cm_plot.plot()\n",
    "plt.show()"
   ]
  },
  {
   "cell_type": "markdown",
   "id": "c34ec3a7",
   "metadata": {},
   "source": [
    "# Random Forest with only personality variables"
   ]
  },
  {
   "cell_type": "code",
   "execution_count": null,
   "id": "29995b74",
   "metadata": {},
   "outputs": [],
   "source": [
    "# Import RFC\n",
    "from sklearn.ensemble import RandomForestClassifier"
   ]
  },
  {
   "cell_type": "code",
   "execution_count": null,
   "id": "f93b72d4",
   "metadata": {},
   "outputs": [],
   "source": [
    "# Fit model and display results\n",
    "clf = RandomForestClassifier(n_estimators = 500, max_depth = 10).fit(X_train_scaled, y_train)\n",
    "print(f\"Training Accuracy: {clf.score(X_train_scaled, y_train)}\")\n",
    "print(f\"Testing Accuracy: {clf.score(X_test_scaled, y_test)}\")"
   ]
  }
 ],
 "metadata": {
  "kernelspec": {
   "display_name": "Python 3 (ipykernel)",
   "language": "python",
   "name": "python3"
  },
  "language_info": {
   "codemirror_mode": {
    "name": "ipython",
    "version": 3
   },
   "file_extension": ".py",
   "mimetype": "text/x-python",
   "name": "python",
   "nbconvert_exporter": "python",
   "pygments_lexer": "ipython3",
   "version": "3.8.13"
  }
 },
 "nbformat": 4,
 "nbformat_minor": 5
}
